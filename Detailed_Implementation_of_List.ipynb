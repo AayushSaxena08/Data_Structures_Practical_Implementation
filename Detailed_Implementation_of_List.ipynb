{
 "cells": [
  {
   "cell_type": "markdown",
   "id": "21fc7355",
   "metadata": {},
   "source": [
    "# List in Python\n",
    "\n",
    "A list is a data structure in Python that is a **mutable**, **ordered** sequence of elements. Each element or value that is inside of a list is called an item. Lists are defined by having values between square brackets [ ]. Since lists are indexed, lists can have duplicates."
   ]
  },
  {
   "cell_type": "code",
   "execution_count": 1,
   "id": "c5ed5f3f",
   "metadata": {},
   "outputs": [
    {
     "name": "stdout",
     "output_type": "stream",
     "text": [
      "[1, 'a', 'Ram', 2.453]\n"
     ]
    }
   ],
   "source": [
    "# Example of creating a list\n",
    "list = [1,'a','Ram',2.453]\n",
    "print(list)"
   ]
  },
  {
   "cell_type": "markdown",
   "id": "d296b0d2",
   "metadata": {},
   "source": [
    "### Access any element of the list"
   ]
  },
  {
   "cell_type": "code",
   "execution_count": 2,
   "id": "bcd8bff8",
   "metadata": {},
   "outputs": [
    {
     "name": "stdout",
     "output_type": "stream",
     "text": [
      "1\n",
      "2.453\n"
     ]
    }
   ],
   "source": [
    "print(list[0])      # Accessing first item\n",
    "print(list[-1])     # Accessing last item"
   ]
  },
  {
   "cell_type": "code",
   "execution_count": 3,
   "id": "948f771b",
   "metadata": {},
   "outputs": [
    {
     "name": "stdout",
     "output_type": "stream",
     "text": [
      "Verma\n"
     ]
    }
   ],
   "source": [
    "# Accessing items from multi-dimensional list\n",
    "list2 = [['Name','FName'],['LName'],['Ram','Verma',23]]\n",
    "print(list2[2][1])"
   ]
  },
  {
   "cell_type": "markdown",
   "id": "73c97dc1",
   "metadata": {},
   "source": [
    "### Indexing"
   ]
  },
  {
   "cell_type": "code",
   "execution_count": 4,
   "id": "1e5ba430",
   "metadata": {},
   "outputs": [
    {
     "name": "stdout",
     "output_type": "stream",
     "text": [
      "['My', 'name', 'is', 'Aayush', 'Saxena']\n",
      "['My', 'age', 'is', '25', 'years', 'old']\n"
     ]
    }
   ],
   "source": [
    "list = ['My','name','is','Aayush','Saxena','and','My','age','is','25','years','old']\n",
    "print(list[:5])\n",
    "print(list[6:])"
   ]
  },
  {
   "cell_type": "markdown",
   "id": "2c6febca",
   "metadata": {},
   "source": [
    "### Adding items to the list "
   ]
  },
  {
   "cell_type": "code",
   "execution_count": 9,
   "id": "fb09a852",
   "metadata": {},
   "outputs": [
    {
     "name": "stdout",
     "output_type": "stream",
     "text": [
      "[1, 2, 3, 4, 5, 6, [7, 8]]\n"
     ]
    }
   ],
   "source": [
    "list=[1,2,3,4,5]\n",
    "list.append(6)\n",
    "list.append([7,8])       # Adding another list to existing list\n",
    "print(list)"
   ]
  },
  {
   "cell_type": "markdown",
   "id": "271c85bf",
   "metadata": {},
   "source": [
    "### Reversing a list"
   ]
  },
  {
   "cell_type": "code",
   "execution_count": 15,
   "id": "206bc086",
   "metadata": {},
   "outputs": [
    {
     "name": "stdout",
     "output_type": "stream",
     "text": [
      "[5, 4, 3, 2, 1]\n"
     ]
    }
   ],
   "source": [
    "list = [1,2,3,4,5]\n",
    "list.reverse()\n",
    "print(list)"
   ]
  },
  {
   "cell_type": "markdown",
   "id": "986bba97",
   "metadata": {},
   "source": [
    "### Removing an item from list"
   ]
  },
  {
   "cell_type": "code",
   "execution_count": 16,
   "id": "b64ca1b6",
   "metadata": {},
   "outputs": [
    {
     "name": "stdout",
     "output_type": "stream",
     "text": [
      "[5, 4, 2, 1]\n"
     ]
    }
   ],
   "source": [
    "list.remove(3)\n",
    "print(list)"
   ]
  },
  {
   "cell_type": "code",
   "execution_count": 17,
   "id": "2dc82232",
   "metadata": {},
   "outputs": [
    {
     "name": "stdout",
     "output_type": "stream",
     "text": [
      "[5, 4, 2]\n"
     ]
    }
   ],
   "source": [
    "# Removing the last item, 1\n",
    "list.pop()\n",
    "print(list)"
   ]
  },
  {
   "cell_type": "markdown",
   "id": "aaae5d20",
   "metadata": {},
   "source": [
    "### Sorting the list"
   ]
  },
  {
   "cell_type": "code",
   "execution_count": 18,
   "id": "83008a0b",
   "metadata": {},
   "outputs": [
    {
     "name": "stdout",
     "output_type": "stream",
     "text": [
      "[3, 11, 23, 44, 50, 65, 79, 82, 99, 101]\n"
     ]
    }
   ],
   "source": [
    "list = [101, 50, 65, 82, 23, 79, 44, 11, 3, 99]\n",
    "list.sort()\n",
    "print(list)"
   ]
  },
  {
   "cell_type": "markdown",
   "id": "94451317",
   "metadata": {},
   "source": [
    "### List Comprehension"
   ]
  },
  {
   "cell_type": "code",
   "execution_count": 19,
   "id": "bf52a952",
   "metadata": {},
   "outputs": [
    {
     "name": "stdout",
     "output_type": "stream",
     "text": [
      "[1, 9, 25, 49, 81]\n"
     ]
    }
   ],
   "source": [
    "# Calculating the square of odd numbers in the given range\n",
    "odd_square = [x ** 2 for x in range(1, 11) if x % 2 == 1]\n",
    "print(odd_square)"
   ]
  },
  {
   "cell_type": "markdown",
   "id": "2ba269ef",
   "metadata": {},
   "source": [
    "### Join 2 lists"
   ]
  },
  {
   "cell_type": "code",
   "execution_count": 20,
   "id": "03f0156f",
   "metadata": {},
   "outputs": [
    {
     "name": "stdout",
     "output_type": "stream",
     "text": [
      "['a', 'b', 'c', 1, 2, 3]\n"
     ]
    }
   ],
   "source": [
    "list1 = [\"a\", \"b\", \"c\"]\n",
    "list2 = [1, 2, 3]\n",
    "\n",
    "list3 = list1 + list2\n",
    "print(list3)"
   ]
  },
  {
   "cell_type": "code",
   "execution_count": null,
   "id": "f3659e13",
   "metadata": {},
   "outputs": [],
   "source": []
  }
 ],
 "metadata": {
  "kernelspec": {
   "display_name": "Python 3 (ipykernel)",
   "language": "python",
   "name": "python3"
  },
  "language_info": {
   "codemirror_mode": {
    "name": "ipython",
    "version": 3
   },
   "file_extension": ".py",
   "mimetype": "text/x-python",
   "name": "python",
   "nbconvert_exporter": "python",
   "pygments_lexer": "ipython3",
   "version": "3.9.12"
  }
 },
 "nbformat": 4,
 "nbformat_minor": 5
}
